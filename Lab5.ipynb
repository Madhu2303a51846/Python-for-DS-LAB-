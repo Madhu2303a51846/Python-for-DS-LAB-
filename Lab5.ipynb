{
  "nbformat": 4,
  "nbformat_minor": 0,
  "metadata": {
    "colab": {
      "provenance": [],
      "authorship_tag": "ABX9TyOtWoc073/O0PBuvvCodH5j",
      "include_colab_link": true
    },
    "kernelspec": {
      "name": "python3",
      "display_name": "Python 3"
    },
    "language_info": {
      "name": "python"
    }
  },
  "cells": [
    {
      "cell_type": "markdown",
      "metadata": {
        "id": "view-in-github",
        "colab_type": "text"
      },
      "source": [
        "<a href=\"https://colab.research.google.com/github/Madhu2303a51846/Python-for-DS-LAB-/blob/main/Lab5.ipynb\" target=\"_parent\"><img src=\"https://colab.research.google.com/assets/colab-badge.svg\" alt=\"Open In Colab\"/></a>"
      ]
    },
    {
      "cell_type": "code",
      "execution_count": 3,
      "metadata": {
        "colab": {
          "base_uri": "https://localhost:8080/"
        },
        "id": "77GdB4F73olE",
        "outputId": "959d2344-f762-4932-b00a-bea8216c9454"
      },
      "outputs": [
        {
          "output_type": "stream",
          "name": "stdout",
          "text": [
            "Merged Data (Inner Join):\n",
            "   sale_id  product_id  quantity_sold   sale_date product_name     category  \\\n",
            "0      101           1              5  2023-01-10       Laptop  Electronics   \n",
            "1      102           2             10  2023-02-15        Phone  Electronics   \n",
            "2      103           3              7  2023-03-20       Tablet  Electronics   \n",
            "3      105           2              3  2023-05-30        Phone  Electronics   \n",
            "\n",
            "   price  revenue  \n",
            "0   1000     5000  \n",
            "1    500     5000  \n",
            "2    300     2100  \n",
            "3    500     1500  \n",
            "\n",
            "Merged Data (Outer Join):\n",
            "   sale_id  product_id  quantity_sold   sale_date product_name     category  \\\n",
            "0    101.0           1            5.0  2023-01-10       Laptop  Electronics   \n",
            "1    102.0           2           10.0  2023-02-15        Phone  Electronics   \n",
            "2    105.0           2            3.0  2023-05-30        Phone  Electronics   \n",
            "3    103.0           3            7.0  2023-03-20       Tablet  Electronics   \n",
            "4    104.0           4           15.0  2023-04-25          NaN          NaN   \n",
            "5    106.0           5            8.0  2023-06-05          NaN          NaN   \n",
            "6      NaN           6            NaN         NaN      Charger  Accessories   \n",
            "\n",
            "    price  \n",
            "0  1000.0  \n",
            "1   500.0  \n",
            "2   500.0  \n",
            "3   300.0  \n",
            "4     NaN  \n",
            "5     NaN  \n",
            "6    50.0  \n",
            "\n",
            "Product-wise Aggregate Statistics:\n",
            "  product_name  total_revenue  average_price  total_sales\n",
            "0       Laptop           5000         1000.0            5\n",
            "1        Phone           6500          500.0           13\n",
            "2       Tablet           2100          300.0            7\n",
            "\n",
            "Category-wise Aggregate Statistics:\n",
            "      category  total_revenue  total_sales\n",
            "0  Electronics          13600           25\n",
            "\n",
            "Best-selling Category:\n",
            "category         Electronics\n",
            "total_revenue          13600\n",
            "total_sales               25\n",
            "Name: 0, dtype: object\n"
          ]
        }
      ],
      "source": [
        "import pandas as pd\n",
        "\n",
        "data_products = {\n",
        "    'product_id': [1, 2, 3, 6],\n",
        "    'product_name': ['Laptop', 'Phone', 'Tablet', 'Charger'],\n",
        "    'category': ['Electronics', 'Electronics', 'Electronics', 'Accessories'],\n",
        "    'price': [1000, 500, 300, 50]\n",
        "}\n",
        "\n",
        "data_sales = {\n",
        "    'sale_id': [101, 102, 103, 104, 105, 106],\n",
        "    'product_id': [1, 2, 3, 4, 2, 5],\n",
        "    'quantity_sold': [5, 10, 7, 15, 3, 8],\n",
        "    'sale_date': ['2023-01-10', '2023-02-15', '2023-03-20', '2023-04-25', '2023-05-30', '2023-06-05']\n",
        "}\n",
        "\n",
        "df_products = pd.DataFrame(data_products)\n",
        "df_sales = pd.DataFrame(data_sales)\n",
        "\n",
        "merged_df_inner = pd.merge(df_sales, df_products, on='product_id', how='inner')\n",
        "merged_df_outer = pd.merge(df_sales, df_products, on='product_id', how='outer')\n",
        "\n",
        "merged_df_inner['revenue'] = merged_df_inner['quantity_sold'] * merged_df_inner['price']\n",
        "\n",
        "product_stats = merged_df_inner.groupby('product_name').agg(\n",
        "    total_revenue=('revenue', 'sum'),\n",
        "    average_price=('price', 'mean'),\n",
        "    total_sales=('quantity_sold', 'sum')\n",
        ").reset_index()\n",
        "\n",
        "category_stats = merged_df_inner.groupby('category').agg(\n",
        "    total_revenue=('revenue', 'sum'),\n",
        "    total_sales=('quantity_sold', 'sum')\n",
        ").reset_index()\n",
        "\n",
        "best_selling_category = category_stats.loc[category_stats['total_sales'].idxmax()]\n",
        "\n",
        "print(\"Merged Data (Inner Join):\")\n",
        "print(merged_df_inner)\n",
        "print(\"\\nMerged Data (Outer Join):\")\n",
        "print(merged_df_outer)\n",
        "print(\"\\nProduct-wise Aggregate Statistics:\")\n",
        "print(product_stats)\n",
        "print(\"\\nCategory-wise Aggregate Statistics:\")\n",
        "print(category_stats)\n",
        "print(\"\\nBest-selling Category:\")\n",
        "print(best_selling_category)\n"
      ]
    },
    {
      "cell_type": "code",
      "source": [
        "import pandas as pd\n",
        "\n",
        "data_teachers = {\n",
        "    'teacher_id': [1, 2, 3, 4],\n",
        "    'teacher_name': ['Alice', 'Bob', 'Charlie', 'Diana'],\n",
        "    'department': ['Math', 'Science', 'Math', 'English']\n",
        "}\n",
        "\n",
        "data_courses = {\n",
        "    'course_id': [101, 102, 103, 104, 105, 106],\n",
        "    'course_name': ['Algebra', 'Physics', 'Calculus', 'Literature', 'Biology', 'Geometry'],\n",
        "    'teacher_id': [1, 2, 1, 4, 2, 5],\n",
        "    'hours_per_week': [4, 3, 5, 2, 4, 3]\n",
        "}\n",
        "\n",
        "df_teachers = pd.DataFrame(data_teachers)\n",
        "df_courses = pd.DataFrame(data_courses)\n",
        "\n",
        "merged_inner = pd.merge(df_courses, df_teachers, on='teacher_id', how='inner')\n",
        "merged_left = pd.merge(df_courses, df_teachers, on='teacher_id', how='left')\n",
        "\n",
        "course_counts = merged_inner['teacher_id'].value_counts().mean()\n",
        "\n",
        "workload_by_department = merged_inner.groupby('department').agg(\n",
        "    total_hours=('hours_per_week', 'sum')\n",
        ").reset_index()\n",
        "\n",
        "print(\"Merged Data (Inner Join):\")\n",
        "print(merged_inner)\n",
        "\n",
        "print(\"\\nMerged Data (Left Join):\")\n",
        "print(merged_left)\n",
        "\n",
        "print(\"\\nAverage Courses per Teacher:\")\n",
        "print(course_counts)\n",
        "\n",
        "print(\"\\nDepartment-wise Total Workload:\")\n",
        "print(workload_by_department)\n"
      ],
      "metadata": {
        "colab": {
          "base_uri": "https://localhost:8080/"
        },
        "id": "4AyhXQ3y-KGY",
        "outputId": "78ba6510-a63a-4cd9-95d9-7000cb128627"
      },
      "execution_count": 4,
      "outputs": [
        {
          "output_type": "stream",
          "name": "stdout",
          "text": [
            "Merged Data (Inner Join):\n",
            "   course_id course_name  teacher_id  hours_per_week teacher_name department\n",
            "0        101     Algebra           1               4        Alice       Math\n",
            "1        102     Physics           2               3          Bob    Science\n",
            "2        103    Calculus           1               5        Alice       Math\n",
            "3        104  Literature           4               2        Diana    English\n",
            "4        105     Biology           2               4          Bob    Science\n",
            "\n",
            "Merged Data (Left Join):\n",
            "   course_id course_name  teacher_id  hours_per_week teacher_name department\n",
            "0        101     Algebra           1               4        Alice       Math\n",
            "1        102     Physics           2               3          Bob    Science\n",
            "2        103    Calculus           1               5        Alice       Math\n",
            "3        104  Literature           4               2        Diana    English\n",
            "4        105     Biology           2               4          Bob    Science\n",
            "5        106    Geometry           5               3          NaN        NaN\n",
            "\n",
            "Average Courses per Teacher:\n",
            "1.6666666666666667\n",
            "\n",
            "Department-wise Total Workload:\n",
            "  department  total_hours\n",
            "0    English            2\n",
            "1       Math            9\n",
            "2    Science            7\n"
          ]
        }
      ]
    }
  ]
}