{
  "nbformat": 4,
  "nbformat_minor": 0,
  "metadata": {
    "colab": {
      "provenance": [],
      "authorship_tag": "ABX9TyPCchucohEiolFzu/Isoybu",
      "include_colab_link": true
    },
    "kernelspec": {
      "name": "python3",
      "display_name": "Python 3"
    },
    "language_info": {
      "name": "python"
    }
  },
  "cells": [
    {
      "cell_type": "markdown",
      "metadata": {
        "id": "view-in-github",
        "colab_type": "text"
      },
      "source": [
        "<a href=\"https://colab.research.google.com/github/Madhu2303a51846/Python-for-DS-LAB-/blob/main/lab1.ipynb\" target=\"_parent\"><img src=\"https://colab.research.google.com/assets/colab-badge.svg\" alt=\"Open In Colab\"/></a>"
      ]
    },
    {
      "cell_type": "code",
      "execution_count": 3,
      "metadata": {
        "colab": {
          "base_uri": "https://localhost:8080/"
        },
        "id": "pwyO4feTBw3v",
        "outputId": "a828965e-d8d0-4d19-a8df-78dad27c1547"
      },
      "outputs": [
        {
          "output_type": "stream",
          "name": "stdout",
          "text": [
            "Recursive: 120\n",
            "Iterative: 120\n"
          ]
        }
      ],
      "source": [
        "def fact_rec(n):\n",
        "    if not isinstance(n,int) or n<0: raise ValueError(\"Non-negative int only\")\n",
        "    if n<=1: return 1\n",
        "    return n*fact_rec(n-1)\n",
        "\n",
        "def fact_iter(n):\n",
        "    if not isinstance(n,int) or n<0: raise ValueError(\"Non-negative int only\")\n",
        "    r=1\n",
        "    for i in range(2,n+1): r*=i\n",
        "    return r\n",
        "\n",
        "n=5\n",
        "print(\"Recursive:\",fact_rec(n))\n",
        "print(\"Iterative:\",fact_iter(n))\n",
        "\n"
      ]
    },
    {
      "cell_type": "code",
      "source": [
        "import math\n",
        "\n",
        "# Recursive factorial function\n",
        "def factorial(n):\n",
        "    if n == 0 or n == 1:\n",
        "        return 1\n",
        "    else:\n",
        "        val = n * factorial(n - 1)\n",
        "        print(f\"factorial({n}) = {val}\")\n",
        "        return val\n",
        "\n",
        "# Function to compute nCr\n",
        "def nCr(n, r):\n",
        "    if n < r or r < 0:\n",
        "        return \"Invalid input (require n ≥ r ≥ 0)\"\n",
        "    return factorial(n) // (factorial(r) * factorial(n - r))\n",
        "\n",
        "# Test cases\n",
        "print(\"nCr(5,2) =\", nCr(5, 2))\n",
        "print(\"nCr(6,0) =\", nCr(6, 0))\n",
        "print(\"nCr(6,6) =\", nCr(6, 6))\n",
        "\n",
        "# Compare with Python's built-in math.comb()\n",
        "print(\"Comparison with math.comb:\")\n",
        "print(\"nCr(5,2) =\", nCr(5,2), \" | math.comb(5,2) =\", math.comb(5,2))\n",
        "print(\"nCr(6,0) =\", nCr(6,0), \" | math.comb(6,0) =\", math.comb(6,0))\n",
        "print(\"nCr(6,6) =\", nCr(6,6), \" | math.comb(6,6) =\", math.comb(6,6))\n"
      ],
      "metadata": {
        "colab": {
          "base_uri": "https://localhost:8080/"
        },
        "id": "ptwpXDYPDYI4",
        "outputId": "3db88f22-5bf9-4ca0-fd32-cc10fff5ec86"
      },
      "execution_count": 5,
      "outputs": [
        {
          "output_type": "stream",
          "name": "stdout",
          "text": [
            "factorial(2) = 2\n",
            "factorial(3) = 6\n",
            "factorial(4) = 24\n",
            "factorial(5) = 120\n",
            "factorial(2) = 2\n",
            "factorial(2) = 2\n",
            "factorial(3) = 6\n",
            "nCr(5,2) = 10\n",
            "factorial(2) = 2\n",
            "factorial(3) = 6\n",
            "factorial(4) = 24\n",
            "factorial(5) = 120\n",
            "factorial(6) = 720\n",
            "factorial(2) = 2\n",
            "factorial(3) = 6\n",
            "factorial(4) = 24\n",
            "factorial(5) = 120\n",
            "factorial(6) = 720\n",
            "nCr(6,0) = 1\n",
            "factorial(2) = 2\n",
            "factorial(3) = 6\n",
            "factorial(4) = 24\n",
            "factorial(5) = 120\n",
            "factorial(6) = 720\n",
            "factorial(2) = 2\n",
            "factorial(3) = 6\n",
            "factorial(4) = 24\n",
            "factorial(5) = 120\n",
            "factorial(6) = 720\n",
            "nCr(6,6) = 1\n",
            "Comparison with math.comb:\n",
            "factorial(2) = 2\n",
            "factorial(3) = 6\n",
            "factorial(4) = 24\n",
            "factorial(5) = 120\n",
            "factorial(2) = 2\n",
            "factorial(2) = 2\n",
            "factorial(3) = 6\n",
            "nCr(5,2) = 10  | math.comb(5,2) = 10\n",
            "factorial(2) = 2\n",
            "factorial(3) = 6\n",
            "factorial(4) = 24\n",
            "factorial(5) = 120\n",
            "factorial(6) = 720\n",
            "factorial(2) = 2\n",
            "factorial(3) = 6\n",
            "factorial(4) = 24\n",
            "factorial(5) = 120\n",
            "factorial(6) = 720\n",
            "nCr(6,0) = 1  | math.comb(6,0) = 1\n",
            "factorial(2) = 2\n",
            "factorial(3) = 6\n",
            "factorial(4) = 24\n",
            "factorial(5) = 120\n",
            "factorial(6) = 720\n",
            "factorial(2) = 2\n",
            "factorial(3) = 6\n",
            "factorial(4) = 24\n",
            "factorial(5) = 120\n",
            "factorial(6) = 720\n",
            "nCr(6,6) = 1  | math.comb(6,6) = 1\n"
          ]
        }
      ]
    }
  ]
}