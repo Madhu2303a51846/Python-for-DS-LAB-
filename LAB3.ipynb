{
  "nbformat": 4,
  "nbformat_minor": 0,
  "metadata": {
    "colab": {
      "provenance": [],
      "authorship_tag": "ABX9TyPPULtuqtxIeiNlT+Y36wmv",
      "include_colab_link": true
    },
    "kernelspec": {
      "name": "python3",
      "display_name": "Python 3"
    },
    "language_info": {
      "name": "python"
    }
  },
  "cells": [
    {
      "cell_type": "markdown",
      "metadata": {
        "id": "view-in-github",
        "colab_type": "text"
      },
      "source": [
        "<a href=\"https://colab.research.google.com/github/Madhu2303a51846/Python-for-DS-LAB-/blob/main/LAB3.ipynb\" target=\"_parent\"><img src=\"https://colab.research.google.com/assets/colab-badge.svg\" alt=\"Open In Colab\"/></a>"
      ]
    },
    {
      "cell_type": "code",
      "execution_count": 2,
      "metadata": {
        "colab": {
          "base_uri": "https://localhost:8080/"
        },
        "id": "gtZ9yWkr-H1d",
        "outputId": "31d753d2-9210-43c8-f846-366cc6ff9a77"
      },
      "outputs": [
        {
          "output_type": "stream",
          "name": "stdout",
          "text": [
            "Matrix A:\n",
            " [[ 9 10  7]\n",
            " [10  3 10]\n",
            " [10  7  2]]\n",
            "\n",
            "Matrix B:\n",
            " [[5 9 4]\n",
            " [8 6 7]\n",
            " [4 6 9]]\n",
            "\n",
            "Matrix Addition (A + B):\n",
            " [[14 19 11]\n",
            " [18  9 17]\n",
            " [14 13 11]]\n",
            "\n",
            "Matrix Subtraction (A - B):\n",
            " [[ 4  1  3]\n",
            " [ 2 -3  3]\n",
            " [ 6  1 -7]]\n",
            "\n",
            "Manual verification at element (2, 3):\n",
            "A[1,2] = 10, B[1,2] = 7\n",
            "Addition check: 10 + 7 = 17 (matches 17)\n",
            "Subtraction check: 10 - 7 = 3 (matches 3)\n",
            "\n",
            "Note on Broadcasting:\n",
            "Since both matrices are 3x3 of the same shape, broadcasting is NOT required here.\n",
            "If one matrix had a shape like (1,3), NumPy broadcasting would align it across rows.\n"
          ]
        }
      ],
      "source": [
        "import numpy as np\n",
        "A = np.random.randint(1, 11, size=(3, 3))\n",
        "B = np.random.randint(1, 11, size=(3, 3))\n",
        "\n",
        "print(\"Matrix A:\\n\", A)\n",
        "print(\"\\nMatrix B:\\n\", B)\n",
        "\n",
        "add_result = np.add(A, B)\n",
        "sub_result = np.subtract(A, B)\n",
        "\n",
        "print(\"\\nMatrix Addition (A + B):\\n\", add_result)\n",
        "print(\"\\nMatrix Subtraction (A - B):\\n\", sub_result)\n",
        "\n",
        "row, col = 1, 2\n",
        "manual_add = A[row, col] + B[row, col]\n",
        "manual_sub = A[row, col] - B[row, col]\n",
        "\n",
        "print(f\"\\nManual verification at element ({row+1}, {col+1}):\")\n",
        "print(f\"A[{row},{col}] = {A[row,col]}, B[{row},{col}] = {B[row,col]}\")\n",
        "print(f\"Addition check: {A[row,col]} + {B[row,col]} = {manual_add} (matches {add_result[row,col]})\")\n",
        "print(f\"Subtraction check: {A[row,col]} - {B[row,col]} = {manual_sub} (matches {sub_result[row,col]})\")\n",
        "\n",
        "print(\"\\nNote on Broadcasting:\")\n",
        "print(\"Since both matrices are 3x3 of the same shape, broadcasting is NOT required here.\")\n",
        "print(\"If one matrix had a shape like (1,3), NumPy broadcasting would align it across rows.\")\n"
      ]
    }
  ]
}