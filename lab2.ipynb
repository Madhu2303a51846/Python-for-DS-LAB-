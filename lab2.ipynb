{
  "nbformat": 4,
  "nbformat_minor": 0,
  "metadata": {
    "colab": {
      "provenance": [],
      "authorship_tag": "ABX9TyNvFMUeT8HoGaoJH13d40sY",
      "include_colab_link": true
    },
    "kernelspec": {
      "name": "python3",
      "display_name": "Python 3"
    },
    "language_info": {
      "name": "python"
    }
  },
  "cells": [
    {
      "cell_type": "markdown",
      "metadata": {
        "id": "view-in-github",
        "colab_type": "text"
      },
      "source": [
        "<a href=\"https://colab.research.google.com/github/Madhu2303a51846/Python-for-DS-LAB-/blob/main/lab2.ipynb\" target=\"_parent\"><img src=\"https://colab.research.google.com/assets/colab-badge.svg\" alt=\"Open In Colab\"/></a>"
      ]
    },
    {
      "cell_type": "code",
      "execution_count": 1,
      "metadata": {
        "colab": {
          "base_uri": "https://localhost:8080/"
        },
        "id": "iwx30rP4_qYv",
        "outputId": "479382ff-424c-496c-8ee0-dbf9ce738d47"
      },
      "outputs": [
        {
          "output_type": "stream",
          "name": "stdout",
          "text": [
            "Marks:\n",
            " [[78 85 90]\n",
            " [60 72 68]\n",
            " [88 92 95]\n",
            " [45 55 50]\n",
            " [82 79 88]]\n",
            "\n",
            "Average: 75.13333333333334\n",
            "Min: 45 Max: 95\n",
            "\n",
            "Marks of first 2 students:\n",
            " [[78 85 90]\n",
            " [60 72 68]]\n",
            "\n",
            "Students scoring above 80:\n",
            " [85 90 88 92 95 82 88]\n",
            "\n",
            "Subject-wise performance:\n",
            " [[78 60 88 45 82]\n",
            " [85 72 92 55 79]\n",
            " [90 68 95 50 88]]\n"
          ]
        }
      ],
      "source": [
        "import numpy as np\n",
        "\n",
        "# Create 2D array (5 students × 3 subjects)\n",
        "marks = np.array([[78, 85, 90],\n",
        "                  [60, 72, 68],\n",
        "                  [88, 92, 95],\n",
        "                  [45, 55, 50],\n",
        "                  [82, 79, 88]])\n",
        "\n",
        "print(\"Marks:\\n\", marks)\n",
        "\n",
        "# Stats\n",
        "print(\"\\nAverage:\", marks.mean())\n",
        "print(\"Min:\", marks.min(), \"Max:\", marks.max())\n",
        "\n",
        "# Slicing: marks of 1st 2 students\n",
        "print(\"\\nMarks of first 2 students:\\n\", marks[:2])\n",
        "\n",
        "# Boolean indexing: students scoring >80 in any subject\n",
        "print(\"\\nStudents scoring above 80:\\n\", marks[(marks > 80)])\n",
        "\n",
        "# Reshape for subject-wise analysis (3 subjects × 5 students)\n",
        "print(\"\\nSubject-wise performance:\\n\", marks.T)\n"
      ]
    },
    {
      "cell_type": "code",
      "source": [
        "import pandas as pd\n",
        "\n",
        "data = {\n",
        "    \"ID\": [101, 102, 103, 104, 105],\n",
        "    \"Name\": [\"Alice\", \"Bob\", \"Charlie\", \"David\", \"Eva\"],\n",
        "    \"Department\": [\"HR\", \"IT\", \"Finance\", \"Marketing\", \"IT\"],\n",
        "    \"Salary\": [48000, 52000, 75000, 46000, 90000]\n",
        "}\n",
        "df = pd.DataFrame(data)\n",
        "print(\"Original Data:\\n\", df)\n",
        "\n",
        "# Filter salary > 50,000\n",
        "print(\"\\nEmployees with Salary > 50,000:\\n\", df[df[\"Salary\"] > 50000])\n",
        "\n",
        "# Sort by salary (descending)\n",
        "df_sorted = df.sort_values(by=\"Salary\", ascending=False)\n",
        "print(\"\\nSorted by Salary (desc):\\n\", df_sorted)\n",
        "\n",
        "# Add Bonus (10% of salary)\n",
        "df[\"Bonus\"] = df[\"Salary\"] * 0.10\n",
        "print(\"\\nWith Bonus Column:\\n\", df)\n",
        "\n",
        "# Total expense (Salary + Bonus)\n",
        "df[\"Total\"] = df[\"Salary\"] + df[\"Bonus\"]\n",
        "print(\"\\nTotal Salary Expense including Bonus:\", df[\"Total\"].sum())\n",
        "\n",
        "# Save to CSV\n",
        "df.to_csv(\"employee_salary_analysis.csv\", index=False)\n",
        "print(\"\\nData saved to 'employee_salary_analysis.csv'\")\n"
      ],
      "metadata": {
        "colab": {
          "base_uri": "https://localhost:8080/"
        },
        "id": "eY5y8V75A1S4",
        "outputId": "840cb235-9b71-4111-b598-d3cc341b5887"
      },
      "execution_count": 2,
      "outputs": [
        {
          "output_type": "stream",
          "name": "stdout",
          "text": [
            "Original Data:\n",
            "     ID     Name Department  Salary\n",
            "0  101    Alice         HR   48000\n",
            "1  102      Bob         IT   52000\n",
            "2  103  Charlie    Finance   75000\n",
            "3  104    David  Marketing   46000\n",
            "4  105      Eva         IT   90000\n",
            "\n",
            "Employees with Salary > 50,000:\n",
            "     ID     Name Department  Salary\n",
            "1  102      Bob         IT   52000\n",
            "2  103  Charlie    Finance   75000\n",
            "4  105      Eva         IT   90000\n",
            "\n",
            "Sorted by Salary (desc):\n",
            "     ID     Name Department  Salary\n",
            "4  105      Eva         IT   90000\n",
            "2  103  Charlie    Finance   75000\n",
            "1  102      Bob         IT   52000\n",
            "0  101    Alice         HR   48000\n",
            "3  104    David  Marketing   46000\n",
            "\n",
            "With Bonus Column:\n",
            "     ID     Name Department  Salary   Bonus\n",
            "0  101    Alice         HR   48000  4800.0\n",
            "1  102      Bob         IT   52000  5200.0\n",
            "2  103  Charlie    Finance   75000  7500.0\n",
            "3  104    David  Marketing   46000  4600.0\n",
            "4  105      Eva         IT   90000  9000.0\n",
            "\n",
            "Total Salary Expense including Bonus: 342100.0\n",
            "\n",
            "Data saved to 'employee_salary_analysis.csv'\n"
          ]
        }
      ]
    }
  ]
}