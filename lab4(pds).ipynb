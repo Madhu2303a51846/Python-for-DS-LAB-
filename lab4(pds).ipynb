{
  "nbformat": 4,
  "nbformat_minor": 0,
  "metadata": {
    "colab": {
      "provenance": [],
      "authorship_tag": "ABX9TyOtWlG/2wwnbqqjRYRaaASX",
      "include_colab_link": true
    },
    "kernelspec": {
      "name": "python3",
      "display_name": "Python 3"
    },
    "language_info": {
      "name": "python"
    }
  },
  "cells": [
    {
      "cell_type": "markdown",
      "metadata": {
        "id": "view-in-github",
        "colab_type": "text"
      },
      "source": [
        "<a href=\"https://colab.research.google.com/github/Madhu2303a51846/Python-for-DS-LAB-/blob/main/lab4(pds).ipynb\" target=\"_parent\"><img src=\"https://colab.research.google.com/assets/colab-badge.svg\" alt=\"Open In Colab\"/></a>"
      ]
    },
    {
      "cell_type": "code",
      "execution_count": 6,
      "metadata": {
        "colab": {
          "base_uri": "https://localhost:8080/"
        },
        "id": "OSqcJaQy1UDt",
        "outputId": "a3a96e70-0c08-49b8-8f3f-e9a9103625fc"
      },
      "outputs": [
        {
          "output_type": "stream",
          "name": "stdout",
          "text": [
            "Original Data:\n",
            "   id     Name  Science  English  Maths\n",
            "0   1  Bronnie     21.0     81.0   49.0\n",
            "1   2   Lemmie     29.0     41.0    NaN\n",
            "2   3    Danya     12.0      NaN   96.0\n",
            "3   4    Denna      NaN      6.0   33.0\n",
            "4   5  Jocelin     43.0     87.0   21.0\n",
            "\n",
            "Data after filling missing values:\n",
            "   id     Name  Science  English  Maths\n",
            "0   1  Bronnie    21.00    81.00  49.00\n",
            "1   2   Lemmie    29.00    41.00  49.75\n",
            "2   3    Danya    12.00    53.75  96.00\n",
            "3   4    Denna    26.25     6.00  33.00\n",
            "4   5  Jocelin    43.00    87.00  21.00\n",
            "\n",
            "High Achievers (scored >75 in all subjects):\n",
            "Empty DataFrame\n",
            "Columns: [id, Name, Science, English, Maths]\n",
            "Index: []\n"
          ]
        }
      ],
      "source": [
        "import pandas as pd\n",
        "\n",
        "# Step 1: Read the CSV file\n",
        "try:\n",
        "    df = pd.read_excel(\"student_scores.csv.xlsx\")\n",
        "except Exception as e:\n",
        "    print(f\"Could not read as Excel: {e}\")\n",
        "    try:\n",
        "        df = pd.read_csv(\"student_scores.csv.xlsx\", encoding='latin1')\n",
        "    except Exception as e:\n",
        "        print(f\"Could not read with latin1 encoding: {e}\")\n",
        "        try:\n",
        "            df = pd.read_csv(\"student_scores.csv.xlsx\", encoding='ISO-8859-1')\n",
        "        except Exception as e:\n",
        "            print(f\"Could not read with ISO-8859-1 encoding: {e}\")\n",
        "            # Fallback to default read_csv which might raise the original error\n",
        "            df = pd.read_csv(\"student_scores.csv.xlsx\")\n",
        "\n",
        "\n",
        "print(\"Original Data:\")\n",
        "print(df)\n",
        "\n",
        "# Step 2: Fill missing marks with column-wise average\n",
        "df.fillna(df.mean(numeric_only=True), inplace=True)\n",
        "\n",
        "print(\"\\nData after filling missing values:\")\n",
        "print(df)\n",
        "\n",
        "# Step 3: Filter students with >75 in all subjects\n",
        "high_achievers = df[(df[\"Maths\"] > 75) & (df[\"Science\"] > 75) & (df[\"English\"] > 75)]\n",
        "\n",
        "print(\"\\nHigh Achievers (scored >75 in all subjects):\")\n",
        "print(high_achievers)"
      ]
    },
    {
      "cell_type": "code",
      "source": [
        "import pandas as pd\n",
        "\n",
        "# Step 1: Load dataset\n",
        "df = pd.read_csv(\"hospital_patients_updated.csv\")\n",
        "\n",
        "print(\"Original Data:\")\n",
        "print(df.head())\n",
        "\n",
        "# Step 2: Replace missing Age values with median\n",
        "df[\"Age\"].fillna(df[\"Age\"].median(), inplace=True)\n",
        "\n",
        "print(\"\\nData after filling missing ages:\")\n",
        "print(df.head())\n",
        "\n",
        "# Step 3: Filter elderly female patients (>50 years) with Diabetes\n",
        "filtered = df[\n",
        "    (df[\"Gender\"].str.lower() == \"female\") &\n",
        "    (df[\"Age\"] > 50) &\n",
        "    (df[\"Diagnosis\"].str.lower() == \"diabetes\")\n",
        "]\n",
        "\n",
        "print(\"\\nFiltered Records (Elderly Female with Diabetes):\")\n",
        "print(filtered)"
      ],
      "metadata": {
        "colab": {
          "base_uri": "https://localhost:8080/"
        },
        "id": "bduDumhM3h6i",
        "outputId": "e865e5f6-11f3-4577-e25b-b9359ade7047"
      },
      "execution_count": 10,
      "outputs": [
        {
          "output_type": "stream",
          "name": "stdout",
          "text": [
            "Original Data:\n",
            "   PatientID         Name   Age  Gender     Diagnosis AdmissionDate\n",
            "0          1     John Doe  34.0    Male           Flu    15-03-2024\n",
            "1          2  Alice Smith  45.0  Female      Diabetes    03-08-2025\n",
            "2          3  Bob Johnson  50.0    Male  Hypertension    05-08-2025\n",
            "3          4  Clara James  29.0  Female           NaN    07-08-2025\n",
            "4          5    David Lee  63.0    Male        Asthma    09-08-2025\n",
            "\n",
            "Data after filling missing ages:\n",
            "   PatientID         Name   Age  Gender     Diagnosis AdmissionDate\n",
            "0          1     John Doe  34.0    Male           Flu    15-03-2024\n",
            "1          2  Alice Smith  45.0  Female      Diabetes    03-08-2025\n",
            "2          3  Bob Johnson  50.0    Male  Hypertension    05-08-2025\n",
            "3          4  Clara James  29.0  Female           NaN    07-08-2025\n",
            "4          5    David Lee  63.0    Male        Asthma    09-08-2025\n",
            "\n",
            "Filtered Records (Elderly Female with Diabetes):\n",
            "    PatientID           Name   Age  Gender Diagnosis AdmissionDate\n",
            "10         11    Laura Green  65.0  Female  Diabetes    18-08-2025\n",
            "11         12  Martha Wilson  72.0  Female  Diabetes    19-08-2025\n"
          ]
        },
        {
          "output_type": "stream",
          "name": "stderr",
          "text": [
            "/tmp/ipython-input-3058058525.py:10: FutureWarning: A value is trying to be set on a copy of a DataFrame or Series through chained assignment using an inplace method.\n",
            "The behavior will change in pandas 3.0. This inplace method will never work because the intermediate object on which we are setting values always behaves as a copy.\n",
            "\n",
            "For example, when doing 'df[col].method(value, inplace=True)', try using 'df.method({col: value}, inplace=True)' or df[col] = df[col].method(value) instead, to perform the operation inplace on the original object.\n",
            "\n",
            "\n",
            "  df[\"Age\"].fillna(df[\"Age\"].median(), inplace=True)\n"
          ]
        }
      ]
    }
  ]
}